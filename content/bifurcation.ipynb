{
 "cells": [
  {
   "cell_type": "markdown",
   "metadata": {},
   "source": [
    "### Load libraries\n",
    "Make sure that you have the latest version of *phase_portraits.py* in the same directory as you're running this Jupyter notebook from. It can be downloaded from: \n",
    "[https://mitt.uib.no/courses/45546/files/folder/Jupyter%20files](https://mitt.uib.no/courses/45546/files/folder/Jupyter%20files) "
   ]
  },
  {
   "cell_type": "code",
   "execution_count": 1,
   "metadata": {},
   "outputs": [],
   "source": [
    "import numpy as np\n",
    "import scipy as sc\n",
    "import matplotlib.pyplot as plt\n",
    "#import phase_portraits as pp\n",
    "from ipywidgets import interact, interactive, fixed, interact_manual\n",
    "import ipywidgets as widgets\n",
    "\n",
    "%matplotlib inline"
   ]
  },
  {
   "cell_type": "markdown",
   "metadata": {},
   "source": [
    "## Bifurcation in 1D\n",
    "\n",
    "\n",
    "Look at the following 1D problems with a parameter $\\mu$: \n",
    "$$ \\begin{array}{rcl}\n",
    "\\dot{x} &=& \\mu + x^2 \\\\\n",
    "\\dot{x} &=& \\mu - x^2 \\\\\n",
    "\\dot{x} &=& \\mu x - x^3 \\\\\n",
    "\\dot{x} &=& \\mu x + x^3 \\\\\n",
    "\\dot{x} &=& \\mu x + x^3 + x^5 \n",
    "\\end{array}\n",
    "$$\n",
    "\n",
    "Plot the right hand side of the problems for different values of $\\mu$. Based on this, find the fixed point (also called critical points, equilibrium points) and determine their stabilities. \n",
    "\n",
    "A first example below. "
   ]
  },
  {
   "cell_type": "code",
   "execution_count": 2,
   "metadata": {},
   "outputs": [
    {
     "data": {
      "application/vnd.jupyter.widget-view+json": {
       "model_id": "4c16293664494d00bf3946ba0b266d17",
       "version_major": 2,
       "version_minor": 0
      },
      "text/plain": [
       "interactive(children=(FloatSlider(value=2.0, description='mu', max=2.0, min=-2.0), Output()), _dom_classes=('w…"
      ]
     },
     "metadata": {},
     "output_type": "display_data"
    },
    {
     "data": {
      "text/plain": [
       "<function __main__.plot_func(mu)>"
      ]
     },
     "execution_count": 2,
     "metadata": {},
     "output_type": "execute_result"
    }
   ],
   "source": [
    "def plot_func(mu): # This function calculates the \n",
    "    fig, ax = plt.subplots(1, 1)\n",
    "    ax.set_xlabel('X')\n",
    "    ax.set_ylabel('Y')\n",
    "    #ax.set_aspect('equal')\n",
    "    xrange=[-2,2]\n",
    "    x=np.linspace(xrange[0],xrange[1],100)\n",
    "\n",
    "    y= mu*x+x**2\n",
    "    \n",
    "    ax=ax.plot(x,y)\n",
    "    plt.axhline(0, color='black', linewidth=.5)\n",
    "    plt.axvline(0, color='black', linewidth=.5)\n",
    "    ax=plt.ylim([-5,5])\n",
    "    \n",
    "\n",
    "interact(plot_func, mu = widgets.FloatSlider(value=2,\n",
    "                                               min=-2,\n",
    "                                               max=2,\n",
    "                                               step=0.1))"
   ]
  },
  {
   "cell_type": "code",
   "execution_count": null,
   "metadata": {},
   "outputs": [],
   "source": []
  },
  {
   "cell_type": "markdown",
   "metadata": {},
   "source": [
    "# 2D\n",
    "Look at the following 2D problems: \n",
    "$$ \\begin{array}{rclrcll}\n",
    "\n",
    "\\dot{x} &=& \\mu - x^2 & \\dot{y} &=&-y \\hspace{1cm}  & {Saddle \\ node}\\\\ \n",
    "\\dot{x} &=& \\mu x - x^2 & \\dot{y} &=&-y & {Transcritical}\\\\ \n",
    "\\dot{x} &=& \\mu x - x^3 & \\dot{y} &=&-y & {Supercritical \\ pitchfork}\\\\ \n",
    "\\dot{x} &=& \\mu x + x^3 & \\dot{y} &=&-y & {Subcritical \\ pitchfork}\\\\ \n",
    "\n",
    "\\dot{x} &=& (\\mu- (x^2 + y^2))x-y & \\dot{y} &=&(\\mu- (x^2 + y^2))y+x & {Supercritical \\ Hopf}\\\\ \n",
    "\\end{array}\n",
    "$$\n",
    "\n",
    "Plot the flow for different values of the parameter $\\mu$.\n",
    "\n",
    "The functions evaluating the right hand side is given below. \n"
   ]
  },
  {
   "cell_type": "code",
   "execution_count": 3,
   "metadata": {},
   "outputs": [],
   "source": [
    "def rhs_sn(t,xy,mu=-1):\n",
    "    x,y=xy\n",
    "    dx=mu-x**2\n",
    "    dy=-y\n",
    "    return [dx,dy]\n",
    "\n",
    "def rhs_transcrit(t,xy,mu=-1):\n",
    "    x,y=xy\n",
    "    dx=mu*x-x**2\n",
    "    dy=-y\n",
    "    return [dx,dy]\n",
    "\n",
    "def rhs_super_pitch(t,xy,mu=-1):\n",
    "    x,y=xy\n",
    "    dx=mu*x-x**3\n",
    "    dy=-y\n",
    "    return [dx,dy]\n",
    "\n",
    "def rhs_sub_pitch(t,xy,mu=-1):\n",
    "    x,y=xy\n",
    "    dx=mu*x+x**3\n",
    "    dy=-y\n",
    "    return [dx,dy]\n",
    "\n",
    "def rhs_sup_hopf(t,xy,mu=-1):\n",
    "    x,y=xy\n",
    "    dx=(mu-(x**2+y**2))*x-y\n",
    "    dy=(mu-(x**2+y**2))*y+x\n",
    "    return [dx,dy]\n"
   ]
  },
  {
   "cell_type": "code",
   "execution_count": 4,
   "metadata": {},
   "outputs": [
    {
     "data": {
      "application/vnd.jupyter.widget-view+json": {
       "model_id": "b7d904f0d1b843368e0ba1937565c9c1",
       "version_major": 2,
       "version_minor": 0
      },
      "text/plain": [
       "interactive(children=(FloatSlider(value=-1.0, description='mu', max=1.0, min=-1.0), Output()), _dom_classes=('…"
      ]
     },
     "metadata": {},
     "output_type": "display_data"
    },
    {
     "data": {
      "text/plain": [
       "<function __main__.plot_func(mu)>"
      ]
     },
     "execution_count": 4,
     "metadata": {},
     "output_type": "execute_result"
    }
   ],
   "source": [
    "def plot_func(mu):\n",
    "    fig, ax = plt.subplots(1, 1)\n",
    "    ax.set_xlabel('X')\n",
    "    ax.set_ylabel('Y')\n",
    "    ax.set_aspect('equal')\n",
    "\n",
    "    ax=pp.plot_flow(ax,rhs_sn,xrange=[-2,2],yrange=[-2,2],nullclines=True,  args=mu)\n",
    "\n",
    "\n",
    "interact(plot_func, mu = widgets.FloatSlider(value=-1,\n",
    "                                               min=-1,\n",
    "                                               max=1.0,\n",
    "                                               step=0.1))"
   ]
  },
  {
   "cell_type": "markdown",
   "metadata": {},
   "source": [
    "# Subcritical Hopf\n",
    "This problem is given in polar coordinates. So $x=r cos(\\theta)$ and $y=r sin(\\theta)$, where $r$ is the distance from origo and $theta$ is the angle between the position vector and the positive $x€-axis. \n",
    "\n",
    "$$ \\begin{array}{rcl}\n",
    "\n",
    "\\dot{r} &=& \\mu r + r^3 - r^5 \\\\\n",
    "\\dot{\\theta} &=&-1 \\\\ \n",
    "\n",
    "\\end{array}\n",
    "$$\n",
    "\n",
    "When $\\dot{r}=0$ the paths will have constant distance, $r$, to origin. This happens when \n",
    "$$\n",
    " -r(r-r_{-})(r-r_{+})=0\n",
    "$$\n",
    "where \n",
    "$$\n",
    "\\begin{array}{rclcl}\n",
    " r &=& 0 \\\\\n",
    " r &=& r_{-} &=& \\sqrt{\\frac{1}{2}\\left(1-\\sqrt{1+r\\mu} \\right)} \\\\\n",
    " r &=& r_{+} &=& \\sqrt{\\frac{1}{2}\\left(1+\\sqrt{1+r\\mu} \\right)}\\\\\n",
    "\\end{array}\n",
    "$$\n",
    "\n",
    "Use the slider in the figure below to see how the two limit cycles occur, how the unstable inner collide with the stable origin, making it unstable. "
   ]
  },
  {
   "cell_type": "code",
   "execution_count": 5,
   "metadata": {},
   "outputs": [],
   "source": [
    "def rhs_sub_hopf(t,xy,mu=-1): # Define the right hand side.\n",
    "    # In order to use the phase_portraits.py file we need to be in the (x,y) coordinates. \n",
    "    x,y=xy\n",
    "    r=np.sqrt(x**2+y**2) # Calculate the distance from origo.\n",
    "    theta=np.arctan2(y,x) # Calculate theta.\n",
    "    dr= mu*r+r**3-r**5 # calculate dr/dt.\n",
    "    dtheta= -1 # Calculate d theta/dt.\n",
    "    dx=dr*np.cos(theta)-r*dtheta*np.sin(theta) # Find dx/dt.\n",
    "    dy=dr*np.sin(theta)+r*dtheta*np.cos(theta) # and dy/dt.\n",
    "    return [dx,dy]\n"
   ]
  },
  {
   "cell_type": "code",
   "execution_count": 6,
   "metadata": {},
   "outputs": [
    {
     "data": {
      "application/vnd.jupyter.widget-view+json": {
       "model_id": "b93cecff63964a2fb7a18f7bf778b065",
       "version_major": 2,
       "version_minor": 0
      },
      "text/plain": [
       "interactive(children=(FloatSlider(value=-0.3, description='mu', max=0.05, min=-0.3, step=0.01), Output()), _do…"
      ]
     },
     "metadata": {},
     "output_type": "display_data"
    },
    {
     "data": {
      "text/plain": [
       "<function __main__.plot_func(mu)>"
      ]
     },
     "execution_count": 6,
     "metadata": {},
     "output_type": "execute_result"
    }
   ],
   "source": [
    "def plot_func(mu):\n",
    "    fig, ax = plt.subplots(1, 1)\n",
    "    ax.set_xlabel('X')\n",
    "    ax.set_ylabel('Y')\n",
    "    ax.set_aspect('equal')\n",
    "\n",
    "    \n",
    "\n",
    "    ax=pp.plot_flow(ax,rhs_sub_hopf,xrange=[-2.,2],yrange=[-2,2],nullclines=True,  args=mu) # This plots the flow\n",
    "    ax=pp.plot_solution(ax,rhs_sub_hopf,y0=[0.1,0.],t_end=100,t_dim=2000,color='green',init_pt=False,linewidth=2.5,args=[mu]) # In these two lines we plot two paths\n",
    "    ax=pp.plot_solution(ax,rhs_sub_hopf,y0=[1.9,0.],t_end=100,t_dim=2000,color='orange',init_pt=False,linewidth=1.5,args=[mu]) # change y0 to plot others. \n",
    "    if (mu >= -0.25): # Check if we get imaginary values for the innermost square root. \n",
    "        r_plus=np.sqrt(0.5+0.5*np.sqrt(1+4*mu))\n",
    "        if ((0.5-0.5*np.sqrt(1+4*mu))>=0): # Check if the outer square root gives an imaginary number, i.e the inner limit cycle doesn't exist.\n",
    "            r_minus=np.sqrt(0.5-0.5*np.sqrt(1+4*mu))\n",
    "            ax=pp.plot_jordan(ax,rhs_sub_hopf,r0=[0,0],rr=r_minus,num=25,vectors=False, color='blue',linewidth=2.5,linestyle='dashed',args=[mu]) # Jordan curve for the outer limit cycle. \n",
    "            ax=pp.plot_solution(ax,rhs_sub_hopf,y0=[r_minus+0.01,0.],t_end=100,t_dim=2000,color='blue',init_pt=False,linewidth=1.,args=[mu])\n",
    "            ax=pp.plot_solution(ax,rhs_sub_hopf,y0=[r_minus-0.01,0.],t_end=100,t_dim=2000,color='blue',init_pt=False,linewidth=1.,args=[mu])\n",
    "        ax=pp.plot_jordan(ax,rhs_sub_hopf,r0=[0,0],rr=r_plus,num=25,vectors=False, color='orange',linewidth=2.5,args=[mu]) # Jordan curve for the outer limit cycle. \n",
    "\n",
    "interact(plot_func, mu = widgets.FloatSlider(value=-0.3,\n",
    "                                               min=-0.3,\n",
    "                                               max=0.05,\n",
    "                                               step=0.01))"
   ]
  },
  {
   "cell_type": "code",
   "execution_count": null,
   "metadata": {},
   "outputs": [],
   "source": []
  },
  {
   "cell_type": "code",
   "execution_count": null,
   "metadata": {},
   "outputs": [],
   "source": []
  }
 ],
 "metadata": {
  "kernelspec": {
   "display_name": "dyn_sys",
   "language": "python",
   "name": "python3"
  },
  "language_info": {
   "codemirror_mode": {
    "name": "ipython",
    "version": 3
   },
   "file_extension": ".py",
   "mimetype": "text/x-python",
   "name": "python",
   "nbconvert_exporter": "python",
   "pygments_lexer": "ipython3",
   "version": "3.11.3"
  }
 },
 "nbformat": 4,
 "nbformat_minor": 2
}
